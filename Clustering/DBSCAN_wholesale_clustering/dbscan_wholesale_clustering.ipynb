{
  "nbformat": 4,
  "nbformat_minor": 0,
  "metadata": {
    "colab": {
      "provenance": [],
      "toc_visible": true
    },
    "kernelspec": {
      "name": "python3",
      "display_name": "Python 3"
    },
    "language_info": {
      "name": "python"
    }
  },
  "cells": [
    {
      "cell_type": "markdown",
      "source": [
        "# **Optimizing DBSCAN Clustering on Wholesale Customers Data**\n",
        "\n",
        "> This project applies DBSCAN clustering to the Wholesale Customers dataset. It preprocesses the data by transforming and scaling the continuous features, retains the categorical columns, and then runs an exhaustive grid search over DBSCAN parameters (eps and min_samples) using the silhouette score to evaluate and select the best clustering configuration.\n",
        "\n",
        "\n"
      ],
      "metadata": {
        "id": "0mFvcmpOtZnO"
      }
    },
    {
      "cell_type": "code",
      "execution_count": null,
      "metadata": {
        "id": "Aa1QTInrsENz"
      },
      "outputs": [],
      "source": [
        "import warnings\n",
        "warnings.filterwarnings('ignore')"
      ]
    },
    {
      "cell_type": "code",
      "source": [
        "import pandas as pd\n",
        "import matplotlib.pyplot as plt\n",
        "import numpy as np\n",
        "from sklearn.cluster import KMeans, AgglomerativeClustering, DBSCAN\n",
        "from sklearn.preprocessing import PowerTransformer, MinMaxScaler\n",
        "from sklearn.metrics import silhouette_score\n",
        "from sklearn.model_selection import ParameterGrid"
      ],
      "metadata": {
        "id": "1uZ2Absz0uXY"
      },
      "execution_count": null,
      "outputs": []
    },
    {
      "cell_type": "code",
      "source": [
        "df = pd.read_csv('Wholesale-customers-data.csv', sep=',', header=0)\n",
        "dropped_columns = df[['Channel', 'Region']]\n",
        "remain_columns = df.drop(columns=['Channel', 'Region'], axis=1)\n",
        "pt = PowerTransformer()\n",
        "header = remain_columns.columns.to_list()\n",
        "remain_columns = pt.fit_transform(remain_columns)\n",
        "mms = MinMaxScaler()\n",
        "remain_columns = mms.fit_transform(remain_columns)\n",
        "remain_columns = pd.DataFrame(remain_columns, columns=header)\n",
        "X = pd.concat([dropped_columns,remain_columns], axis=1)"
      ],
      "metadata": {
        "id": "OQVLJeUZ1HDq"
      },
      "execution_count": null,
      "outputs": []
    },
    {
      "cell_type": "code",
      "source": [
        "db = DBSCAN()\n",
        "y_db = db.fit_predict(X)\n",
        "print('defult values for min_samples and eps are: ' + str(db.min_samples) + ' and ' + str(db.eps))"
      ],
      "metadata": {
        "colab": {
          "base_uri": "https://localhost:8080/"
        },
        "id": "cfKNjzVt5ka7",
        "outputId": "ad449eac-5b51-4c52-df88-97a869fb9011"
      },
      "execution_count": null,
      "outputs": [
        {
          "output_type": "stream",
          "name": "stdout",
          "text": [
            "defult values for min_samples and eps are: 5 and 0.5\n"
          ]
        }
      ]
    },
    {
      "cell_type": "code",
      "source": [
        "n = np.unique(y_db[y_db != -1],return_counts=True)\n",
        "plt.pie(n[1], labels=n[0])"
      ],
      "metadata": {
        "id": "8X4HMfUC6H84",
        "outputId": "22047232-f607-4e02-e53d-c3c2921995fe",
        "colab": {
          "base_uri": "https://localhost:8080/",
          "height": 610
        }
      },
      "execution_count": null,
      "outputs": [
        {
          "output_type": "execute_result",
          "data": {
            "text/plain": [
              "([<matplotlib.patches.Wedge at 0x794fd430c290>,\n",
              "  <matplotlib.patches.Wedge at 0x794fd42d49d0>,\n",
              "  <matplotlib.patches.Wedge at 0x794fd3c39c50>,\n",
              "  <matplotlib.patches.Wedge at 0x794fd3c3ad10>,\n",
              "  <matplotlib.patches.Wedge at 0x794fd3c3bdd0>,\n",
              "  <matplotlib.patches.Wedge at 0x794fd3c49790>],\n",
              " [Text(0.7999095385908265, 0.7550792872747942, '0'),\n",
              "  Text(-1.0926978822431568, 0.12653591640842662, '1'),\n",
              "  Text(0.2744798944170762, -1.065204575450552, '2'),\n",
              "  Text(0.794447995987203, -0.7608234891694113, '3'),\n",
              "  Text(0.9630194271036546, -0.5315953188478516, '4'),\n",
              "  Text(1.0807528641286013, -0.20487373349901455, '5')])"
            ]
          },
          "metadata": {},
          "execution_count": 5
        },
        {
          "output_type": "display_data",
          "data": {
            "text/plain": [
              "<Figure size 640x480 with 1 Axes>"
            ],
            "image/png": "[encoded data removed]"
          },
          "metadata": {}
        }
      ]
    },
    {
      "cell_type": "code",
      "source": [
        "param_grid = {'eps': list(np.arange(0.01, 1, 0.05)), 'min_samples': list(np.arange(2,11,1))}\n",
        "params = list(ParameterGrid(param_grid))\n",
        "silhouette_scores = []\n",
        "dbscan_out = pd.DataFrame(columns=['eps', 'min_samples', 'silhouette_score', 'n_clusters'])"
      ],
      "metadata": {
        "id": "eqcjN3lx40uN"
      },
      "execution_count": null,
      "outputs": []
    },
    {
      "cell_type": "code",
      "source": [
        "for i in params:\n",
        "  db = DBSCAN(**i)\n",
        "  y_db = db.fit_predict(X)\n",
        "  clusters = np.unique(y_db[y_db != -1])\n",
        "  n_cluster = len(clusters)\n",
        "  if n_cluster>1 and n_cluster<len(y_db):\n",
        "    score = silhouette_score(X, y_db)\n",
        "    silhouette_scores.append(score)\n",
        "    dbscan_out.loc[len(dbscan_out)] = [db.eps, db.min_samples, score, n_cluster]\n"
      ],
      "metadata": {
        "id": "eJLt5Xrn8ndA"
      },
      "execution_count": null,
      "outputs": []
    }
  ]
}