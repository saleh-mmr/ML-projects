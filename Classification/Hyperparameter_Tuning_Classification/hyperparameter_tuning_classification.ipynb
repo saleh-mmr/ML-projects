{
  "nbformat": 4,
  "nbformat_minor": 0,
  "metadata": {
    "colab": {
      "provenance": []
    },
    "kernelspec": {
      "name": "python3",
      "display_name": "Python 3"
    },
    "language_info": {
      "name": "python"
    }
  },
  "cells": [
    {
      "cell_type": "markdown",
      "source": [
        "# **Classification exercise for Machine Learning Course in UNIBO**"
      ],
      "metadata": {
        "id": "BT5HWyJFowUK"
      }
    },
    {
      "cell_type": "code",
      "execution_count": 267,
      "metadata": {
        "id": "q6Os5ugZojub"
      },
      "outputs": [],
      "source": [
        "import warnings\n",
        "warnings.filterwarnings('ignore')\n",
        "import pandas as pd\n",
        "import matplotlib.pyplot as plt\n",
        "import numpy as np\n",
        "import seaborn as sns\n",
        "from sklearn.model_selection import GridSearchCV, StratifiedKFold, train_test_split\n",
        "from sklearn.preprocessing import PowerTransformer, LabelEncoder, MinMaxScaler\n",
        "from sklearn.tree import DecisionTreeClassifier\n",
        "from sklearn.neighbors import KNeighborsClassifier\n",
        "from sklearn.metrics import confusion_matrix, classification_report, ConfusionMatrixDisplay\n"
      ]
    },
    {
      "cell_type": "markdown",
      "source": [
        "**Loading Data**\n",
        "\n",
        "> Reading a dataset from a CSV file and creating a DataFrame, setting the first column as the index, and naming the columns with the given names.\n",
        "\n",
        "**Exploring Data**\n",
        "\n",
        "> Displaying the first five rows of the dataset.\n",
        "\n",
        "\n"
      ],
      "metadata": {
        "id": "WH_HH6mQHjCs"
      }
    },
    {
      "cell_type": "code",
      "source": [
        "names = ['Gender', 'f1', 'f2', 'f3', 'f4', 'f5', 'f6', 'f7', 'f8']\n",
        "df = pd.read_csv('2023-01-09.csv', sep=',', index_col=0, header=None, names=names)"
      ],
      "metadata": {
        "id": "g-qqEgeNppAG"
      },
      "execution_count": 233,
      "outputs": []
    },
    {
      "cell_type": "code",
      "source": [
        "df.head()"
      ],
      "metadata": {
        "id": "3bG1iKfQqS0C"
      },
      "execution_count": null,
      "outputs": []
    },
    {
      "cell_type": "markdown",
      "source": [
        "**Encoding Categorical Data**\n",
        "\n",
        "> Encode categorical features using LabelEncoder from scikit-learn.\n",
        "\n",
        "**Filling Null Values**\n",
        "\n",
        "> Replace missing values in all numerical features with their mean."
      ],
      "metadata": {
        "id": "63FupTRnILTH"
      }
    },
    {
      "cell_type": "code",
      "source": [
        "lencoder = LabelEncoder()\n",
        "df['Gender'] = lencoder.fit_transform(df['Gender'])"
      ],
      "metadata": {
        "id": "tUXo5HdoDuK0"
      },
      "execution_count": 234,
      "outputs": []
    },
    {
      "cell_type": "code",
      "source": [
        "df.fillna(df.mean(), inplace=True)"
      ],
      "metadata": {
        "id": "ZTggMBUoxM9W"
      },
      "execution_count": 235,
      "outputs": []
    },
    {
      "cell_type": "markdown",
      "source": [
        "**Exploring Data**\n",
        "\n",
        "> Displaying the size of the dataset and visualizing the data using various plots."
      ],
      "metadata": {
        "id": "QHGi4bHPJIRD"
      }
    },
    {
      "cell_type": "code",
      "source": [
        "df.describe()"
      ],
      "metadata": {
        "id": "YiJqfQgaqYz3"
      },
      "execution_count": null,
      "outputs": []
    },
    {
      "cell_type": "code",
      "source": [
        "print(\"the shape of the data set is \"+str(df.shape))"
      ],
      "metadata": {
        "id": "Gj0OszL-qc8M"
      },
      "execution_count": null,
      "outputs": []
    },
    {
      "cell_type": "code",
      "source": [
        "sns.pairplot(df)"
      ],
      "metadata": {
        "id": "hE3u8vUOqiTh"
      },
      "execution_count": null,
      "outputs": []
    },
    {
      "cell_type": "code",
      "source": [
        "df.hist()"
      ],
      "metadata": {
        "id": "Lw9t_uYPt423"
      },
      "execution_count": null,
      "outputs": []
    },
    {
      "cell_type": "code",
      "source": [
        "sns.boxplot(df)"
      ],
      "metadata": {
        "id": "6ORbC_cuucx9"
      },
      "execution_count": null,
      "outputs": []
    },
    {
      "cell_type": "markdown",
      "source": [],
      "metadata": {
        "id": "ehnsdIu1JZpk"
      }
    },
    {
      "cell_type": "code",
      "source": [
        "df = df.drop(columns=['f3'])"
      ],
      "metadata": {
        "id": "yT6iQCtEul9j"
      },
      "execution_count": 236,
      "outputs": []
    },
    {
      "cell_type": "markdown",
      "source": [
        "**Model Selection and Evaluation Using GridSearchCV**\n",
        "\n",
        "\n",
        "\n",
        "> This script performs model selection and hyperparameter tuning for classification using Decision Tree and K-Nearest Neighbors (KNN) classifiers. The models are evaluated based on the F1-macro score, utilizing Stratified K-Fold cross-validation to ensure robust performance estimation.\n",
        "\n",
        "> The script first defines the models along with their respective hyperparameters for tuning. The dataset is then split into training and testing sets, where feature 'f8' is used as the target variable. A GridSearchCV is applied to search for the best hyperparameters for each model. After training, predictions are made on the test set, and the classification report is computed. The results, including the best parameters and the F1-macro score, are stored in a DataFrame for further analysis.\n",
        "\n"
      ],
      "metadata": {
        "id": "nX9RTgEzJtvw"
      }
    },
    {
      "cell_type": "code",
      "source": [
        "model_lbls = ['dt', 'knn']\n",
        "\n",
        "models = {\n",
        "    'dt': {\n",
        "        'name': 'Decision Tree',\n",
        "        'estimator': DecisionTreeClassifier(random_state=42),\n",
        "        'param': {'criterion': ['gini', 'entropy'], 'max_depth': [*range(5,12)]}\n",
        "    },\n",
        "    'knn': {\n",
        "        'name': 'K Nearest Neighbour',\n",
        "        'estimator': KNeighborsClassifier(),\n",
        "        'param': {'weights': ['uniform', 'distance'], 'n_neighbors': [*range(5,12)]}\n",
        "    }\n",
        "}\n",
        "\n",
        "scoring = ['f1_macro']\n",
        "\n",
        "results = pd.DataFrame(columns= ['scoring', 'model', 'params', 'f1_macro'])\n",
        "\n",
        "cv = StratifiedKFold(n_splits=5, random_state=42, shuffle=True)\n",
        "\n",
        "clfs = []\n",
        "\n",
        "X = df.drop(columns=['f8'])\n",
        "y = df['f8']\n",
        "\n",
        "X_train, X_test, y_train, y_test = train_test_split(X, y, test_size=0.25, random_state=42)"
      ],
      "metadata": {
        "id": "e-DgAKKyvLdj"
      },
      "execution_count": 237,
      "outputs": []
    },
    {
      "cell_type": "code",
      "source": [
        "for score in scoring:\n",
        "  for lbl in model_lbls:\n",
        "    clf = GridSearchCV(estimator=models[lbl]['estimator'],\n",
        "                       scoring=score,\n",
        "                       param_grid=models[lbl]['param'],\n",
        "                       cv=cv,\n",
        "                       return_train_score=False)\n",
        "    clf.fit(X_train,y_train)\n",
        "    y_pre = clf.predict(X_test)\n",
        "    cr = classification_report(y_test,y_pre, output_dict=True)\n",
        "    clfs.append(clf)\n",
        "    results.loc[len(results)]= [score, models[lbl]['name'], clf.best_params_, cr['macro avg']['f1-score']]"
      ],
      "metadata": {
        "id": "lGloyXQ7y531"
      },
      "execution_count": 238,
      "outputs": []
    },
    {
      "cell_type": "markdown",
      "source": [
        "**Selecting the Best Model and Displaying the Confusion Matrix**\n",
        "\n",
        "\n",
        "\n",
        "> This part of the script sorts the results based on the F1-macro score in descending order to identify the best-performing model. For each scoring metric, it retrieves the classifier that achieved the highest score and then displays its confusion matrix using ConfusionMatrixDisplay.from_estimator(). This helps in visualizing the model's performance by showing the distribution of predictions across actual classes, making it easier to analyze misclassifications.\n",
        "\n"
      ],
      "metadata": {
        "id": "RviTQesrJ9Mp"
      }
    },
    {
      "cell_type": "code",
      "source": [
        "results.sort_values(by=['f1_macro'], ascending=False)"
      ],
      "metadata": {
        "colab": {
          "base_uri": "https://localhost:8080/",
          "height": 111
        },
        "id": "BQlEDYaJyZbz",
        "outputId": "0c8a64ea-c6a8-42ce-e6f4-0e9a9cecfba6"
      },
      "execution_count": 239,
      "outputs": [
        {
          "output_type": "execute_result",
          "data": {
            "text/plain": [
              "    scoring                model                                     params  f1_macro\n",
              "1  f1_macro  K Nearest Neighbour  {'n_neighbors': 6, 'weights': 'distance'}  0.482447\n",
              "0  f1_macro        Decision Tree      {'criterion': 'gini', 'max_depth': 8}  0.457604"
            ],
            "text/html": [
              "\n",
              "  <div id=\"df-c959d4c5-9998-4e1a-b09a-4ee066348c3c\" class=\"colab-df-container\">\n",
              "    <div>\n",
              "<style scoped>\n",
              "    .dataframe tbody tr th:only-of-type {\n",
              "        vertical-align: middle;\n",
              "    }\n",
              "\n",
              "    .dataframe tbody tr th {\n",
              "        vertical-align: top;\n",
              "    }\n",
              "\n",
              "    .dataframe thead th {\n",
              "        text-align: right;\n",
              "    }\n",
              "</style>\n",
              "<table border=\"1\" class=\"dataframe\">\n",
              "  <thead>\n",
              "    <tr style=\"text-align: right;\">\n",
              "      <th></th>\n",
              "      <th>scoring</th>\n",
              "      <th>model</th>\n",
              "      <th>params</th>\n",
              "      <th>f1_macro</th>\n",
              "    </tr>\n",
              "  </thead>\n",
              "  <tbody>\n",
              "    <tr>\n",
              "      <th>1</th>\n",
              "      <td>f1_macro</td>\n",
              "      <td>K Nearest Neighbour</td>\n",
              "      <td>{'n_neighbors': 6, 'weights': 'distance'}</td>\n",
              "      <td>0.482447</td>\n",
              "    </tr>\n",
              "    <tr>\n",
              "      <th>0</th>\n",
              "      <td>f1_macro</td>\n",
              "      <td>Decision Tree</td>\n",
              "      <td>{'criterion': 'gini', 'max_depth': 8}</td>\n",
              "      <td>0.457604</td>\n",
              "    </tr>\n",
              "  </tbody>\n",
              "</table>\n",
              "</div>\n",
              "    <div class=\"colab-df-buttons\">\n",
              "\n",
              "  <div class=\"colab-df-container\">\n",
              "    <button class=\"colab-df-convert\" onclick=\"convertToInteractive('df-c959d4c5-9998-4e1a-b09a-4ee066348c3c')\"\n",
              "            title=\"Convert this dataframe to an interactive table.\"\n",
              "            style=\"display:none;\">\n",
              "\n",
              "  <svg xmlns=\"http://www.w3.org/2000/svg\" height=\"24px\" viewBox=\"0 -960 960 960\">\n",
              "    <path d=\"M120-120v-720h720v720H120Zm60-500h600v-160H180v160Zm220 220h160v-160H400v160Zm0 220h160v-160H400v160ZM180-400h160v-160H180v160Zm440 0h160v-160H620v160ZM180-180h160v-160H180v160Zm440 0h160v-160H620v160Z\"/>\n",
              "  </svg>\n",
              "    </button>\n",
              "\n",
              "  <style>\n",
              "    .colab-df-container {\n",
              "      display:flex;\n",
              "      gap: 12px;\n",
              "    }\n",
              "\n",
              "    .colab-df-convert {\n",
              "      background-color: #E8F0FE;\n",
              "      border: none;\n",
              "      border-radius: 50%;\n",
              "      cursor: pointer;\n",
              "      display: none;\n",
              "      fill: #1967D2;\n",
              "      height: 32px;\n",
              "      padding: 0 0 0 0;\n",
              "      width: 32px;\n",
              "    }\n",
              "\n",
              "    .colab-df-convert:hover {\n",
              "      background-color: #E2EBFA;\n",
              "      box-shadow: 0px 1px 2px rgba(60, 64, 67, 0.3), 0px 1px 3px 1px rgba(60, 64, 67, 0.15);\n",
              "      fill: #174EA6;\n",
              "    }\n",
              "\n",
              "    .colab-df-buttons div {\n",
              "      margin-bottom: 4px;\n",
              "    }\n",
              "\n",
              "    [theme=dark] .colab-df-convert {\n",
              "      background-color: #3B4455;\n",
              "      fill: #D2E3FC;\n",
              "    }\n",
              "\n",
              "    [theme=dark] .colab-df-convert:hover {\n",
              "      background-color: #434B5C;\n",
              "      box-shadow: 0px 1px 3px 1px rgba(0, 0, 0, 0.15);\n",
              "      filter: drop-shadow(0px 1px 2px rgba(0, 0, 0, 0.3));\n",
              "      fill: #FFFFFF;\n",
              "    }\n",
              "  </style>\n",
              "\n",
              "    <script>\n",
              "      const buttonEl =\n",
              "        document.querySelector('#df-c959d4c5-9998-4e1a-b09a-4ee066348c3c button.colab-df-convert');\n",
              "      buttonEl.style.display =\n",
              "        google.colab.kernel.accessAllowed ? 'block' : 'none';\n",
              "\n",
              "      async function convertToInteractive(key) {\n",
              "        const element = document.querySelector('#df-c959d4c5-9998-4e1a-b09a-4ee066348c3c');\n",
              "        const dataTable =\n",
              "          await google.colab.kernel.invokeFunction('convertToInteractive',\n",
              "                                                    [key], {});\n",
              "        if (!dataTable) return;\n",
              "\n",
              "        const docLinkHtml = 'Like what you see? Visit the ' +\n",
              "          '<a target=\"_blank\" href=https://colab.research.google.com/notebooks/data_table.ipynb>data table notebook</a>'\n",
              "          + ' to learn more about interactive tables.';\n",
              "        element.innerHTML = '';\n",
              "        dataTable['output_type'] = 'display_data';\n",
              "        await google.colab.output.renderOutput(dataTable, element);\n",
              "        const docLink = document.createElement('div');\n",
              "        docLink.innerHTML = docLinkHtml;\n",
              "        element.appendChild(docLink);\n",
              "      }\n",
              "    </script>\n",
              "  </div>\n",
              "\n",
              "\n",
              "<div id=\"df-18508f3b-d22f-4f68-9022-4a4a7452701a\">\n",
              "  <button class=\"colab-df-quickchart\" onclick=\"quickchart('df-18508f3b-d22f-4f68-9022-4a4a7452701a')\"\n",
              "            title=\"Suggest charts\"\n",
              "            style=\"display:none;\">\n",
              "\n",
              "<svg xmlns=\"http://www.w3.org/2000/svg\" height=\"24px\"viewBox=\"0 0 24 24\"\n",
              "     width=\"24px\">\n",
              "    <g>\n",
              "        <path d=\"M19 3H5c-1.1 0-2 .9-2 2v14c0 1.1.9 2 2 2h14c1.1 0 2-.9 2-2V5c0-1.1-.9-2-2-2zM9 17H7v-7h2v7zm4 0h-2V7h2v10zm4 0h-2v-4h2v4z\"/>\n",
              "    </g>\n",
              "</svg>\n",
              "  </button>\n",
              "\n",
              "<style>\n",
              "  .colab-df-quickchart {\n",
              "      --bg-color: #E8F0FE;\n",
              "      --fill-color: #1967D2;\n",
              "      --hover-bg-color: #E2EBFA;\n",
              "      --hover-fill-color: #174EA6;\n",
              "      --disabled-fill-color: #AAA;\n",
              "      --disabled-bg-color: #DDD;\n",
              "  }\n",
              "\n",
              "  [theme=dark] .colab-df-quickchart {\n",
              "      --bg-color: #3B4455;\n",
              "      --fill-color: #D2E3FC;\n",
              "      --hover-bg-color: #434B5C;\n",
              "      --hover-fill-color: #FFFFFF;\n",
              "      --disabled-bg-color: #3B4455;\n",
              "      --disabled-fill-color: #666;\n",
              "  }\n",
              "\n",
              "  .colab-df-quickchart {\n",
              "    background-color: var(--bg-color);\n",
              "    border: none;\n",
              "    border-radius: 50%;\n",
              "    cursor: pointer;\n",
              "    display: none;\n",
              "    fill: var(--fill-color);\n",
              "    height: 32px;\n",
              "    padding: 0;\n",
              "    width: 32px;\n",
              "  }\n",
              "\n",
              "  .colab-df-quickchart:hover {\n",
              "    background-color: var(--hover-bg-color);\n",
              "    box-shadow: 0 1px 2px rgba(60, 64, 67, 0.3), 0 1px 3px 1px rgba(60, 64, 67, 0.15);\n",
              "    fill: var(--button-hover-fill-color);\n",
              "  }\n",
              "\n",
              "  .colab-df-quickchart-complete:disabled,\n",
              "  .colab-df-quickchart-complete:disabled:hover {\n",
              "    background-color: var(--disabled-bg-color);\n",
              "    fill: var(--disabled-fill-color);\n",
              "    box-shadow: none;\n",
              "  }\n",
              "\n",
              "  .colab-df-spinner {\n",
              "    border: 2px solid var(--fill-color);\n",
              "    border-color: transparent;\n",
              "    border-bottom-color: var(--fill-color);\n",
              "    animation:\n",
              "      spin 1s steps(1) infinite;\n",
              "  }\n",
              "\n",
              "  @keyframes spin {\n",
              "    0% {\n",
              "      border-color: transparent;\n",
              "      border-bottom-color: var(--fill-color);\n",
              "      border-left-color: var(--fill-color);\n",
              "    }\n",
              "    20% {\n",
              "      border-color: transparent;\n",
              "      border-left-color: var(--fill-color);\n",
              "      border-top-color: var(--fill-color);\n",
              "    }\n",
              "    30% {\n",
              "      border-color: transparent;\n",
              "      border-left-color: var(--fill-color);\n",
              "      border-top-color: var(--fill-color);\n",
              "      border-right-color: var(--fill-color);\n",
              "    }\n",
              "    40% {\n",
              "      border-color: transparent;\n",
              "      border-right-color: var(--fill-color);\n",
              "      border-top-color: var(--fill-color);\n",
              "    }\n",
              "    60% {\n",
              "      border-color: transparent;\n",
              "      border-right-color: var(--fill-color);\n",
              "    }\n",
              "    80% {\n",
              "      border-color: transparent;\n",
              "      border-right-color: var(--fill-color);\n",
              "      border-bottom-color: var(--fill-color);\n",
              "    }\n",
              "    90% {\n",
              "      border-color: transparent;\n",
              "      border-bottom-color: var(--fill-color);\n",
              "    }\n",
              "  }\n",
              "</style>\n",
              "\n",
              "  <script>\n",
              "    async function quickchart(key) {\n",
              "      const quickchartButtonEl =\n",
              "        document.querySelector('#' + key + ' button');\n",
              "      quickchartButtonEl.disabled = true;  // To prevent multiple clicks.\n",
              "      quickchartButtonEl.classList.add('colab-df-spinner');\n",
              "      try {\n",
              "        const charts = await google.colab.kernel.invokeFunction(\n",
              "            'suggestCharts', [key], {});\n",
              "      } catch (error) {\n",
              "        console.error('Error during call to suggestCharts:', error);\n",
              "      }\n",
              "      quickchartButtonEl.classList.remove('colab-df-spinner');\n",
              "      quickchartButtonEl.classList.add('colab-df-quickchart-complete');\n",
              "    }\n",
              "    (() => {\n",
              "      let quickchartButtonEl =\n",
              "        document.querySelector('#df-18508f3b-d22f-4f68-9022-4a4a7452701a button');\n",
              "      quickchartButtonEl.style.display =\n",
              "        google.colab.kernel.accessAllowed ? 'block' : 'none';\n",
              "    })();\n",
              "  </script>\n",
              "</div>\n",
              "\n",
              "    </div>\n",
              "  </div>\n"
            ],
            "application/vnd.google.colaboratory.intrinsic+json": {
              "type": "dataframe",
              "summary": "{\n  \"name\": \"results\",\n  \"rows\": 2,\n  \"fields\": [\n    {\n      \"column\": \"scoring\",\n      \"properties\": {\n        \"dtype\": \"string\",\n        \"num_unique_values\": 1,\n        \"samples\": [\n          \"f1_macro\"\n        ],\n        \"semantic_type\": \"\",\n        \"description\": \"\"\n      }\n    },\n    {\n      \"column\": \"model\",\n      \"properties\": {\n        \"dtype\": \"string\",\n        \"num_unique_values\": 2,\n        \"samples\": [\n          \"Decision Tree\"\n        ],\n        \"semantic_type\": \"\",\n        \"description\": \"\"\n      }\n    },\n    {\n      \"column\": \"params\",\n      \"properties\": {\n        \"dtype\": \"object\",\n        \"semantic_type\": \"\",\n        \"description\": \"\"\n      }\n    },\n    {\n      \"column\": \"f1_macro\",\n      \"properties\": {\n        \"dtype\": \"number\",\n        \"std\": 0.017566563222871038,\n        \"min\": 0.4576041596777456,\n        \"max\": 0.48244703163181424,\n        \"num_unique_values\": 2,\n        \"samples\": [\n          0.4576041596777456\n        ],\n        \"semantic_type\": \"\",\n        \"description\": \"\"\n      }\n    }\n  ]\n}"
            }
          },
          "metadata": {},
          "execution_count": 239
        }
      ]
    },
    {
      "cell_type": "code",
      "source": [
        "for score in scoring:\n",
        "  idbest = results.loc[results['scoring']==score, score].idxmax(axis=0)\n",
        "  best_clf = clfs[idbest]\n",
        "  disp = ConfusionMatrixDisplay.from_estimator(best_clf,X_test,y_test)"
      ],
      "metadata": {
        "colab": {
          "base_uri": "https://localhost:8080/",
          "height": 449
        },
        "id": "nO62A29BFPrM",
        "outputId": "bd306cfe-c4bf-4b08-ae72-44378bdf16ac"
      },
      "execution_count": 241,
      "outputs": [
        {
          "output_type": "display_data",
          "data": {
            "text/plain": [
              "<Figure size 640x480 with 2 Axes>"
            ],
            "image/png": "[encoded data removed]"
          },
          "metadata": {}
        }
      ]
    }
  ]
}