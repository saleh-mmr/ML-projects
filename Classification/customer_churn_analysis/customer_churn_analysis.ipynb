{
  "cells": [
    {
      "cell_type": "markdown",
      "metadata": {},
      "source": [
        "# Customer Churn Prediction Using Multiple Classifiers"
      ]
    },
    {
      "cell_type": "code",
      "execution_count": 50,
      "metadata": {
        "id": "U4s18WK0pWs6"
      },
      "outputs": [],
      "source": [
        "import warnings\n",
        "warnings.filterwarnings('ignore')"
      ]
    },
    {
      "cell_type": "code",
      "execution_count": 51,
      "metadata": {
        "id": "ANliDd59pjHZ"
      },
      "outputs": [],
      "source": [
        "import pandas as pd\n",
        "import matplotlib.pyplot as plt\n",
        "from sklearn.model_selection import train_test_split, GridSearchCV, StratifiedKFold\n",
        "from sklearn.linear_model import Perceptron\n",
        "from sklearn.tree import DecisionTreeClassifier\n",
        "from sklearn.ensemble import RandomForestClassifier, AdaBoostClassifier\n",
        "from sklearn.neighbors import KNeighborsClassifier\n",
        "from sklearn.metrics import classification_report\n",
        "from sklearn.metrics import confusion_matrix, ConfusionMatrixDisplay\n",
        "import seaborn as sns"
      ]
    },
    {
      "cell_type": "code",
      "execution_count": 52,
      "metadata": {
        "id": "dcPHTCrGp0x0"
      },
      "outputs": [],
      "source": [
        "df1 = pd.read_csv('d1.csv', sep=',', header=0)\n",
        "df2 = pd.read_csv('d2.csv', sep=',', header=0)"
      ]
    },
    {
      "cell_type": "code",
      "execution_count": 53,
      "metadata": {
        "id": "Grl-PvX_qj3i"
      },
      "outputs": [],
      "source": [
        "df1['class_x'] = df1['class']\n",
        "df1 = df1.drop(columns=['class'], axis=1)\n",
        "df2['class_y'] = df2['class']\n",
        "df2 = df2.drop(columns=['class'], axis=1)"
      ]
    },
    {
      "cell_type": "code",
      "execution_count": 54,
      "metadata": {
        "id": "ltORBQd1q1CJ"
      },
      "outputs": [],
      "source": [
        "df = df1.merge(df2)"
      ]
    },
    {
      "cell_type": "code",
      "execution_count": 55,
      "metadata": {
        "id": "95jtisBcr3AL"
      },
      "outputs": [],
      "source": [
        "df = df[df['class_x']==df['class_y']]"
      ]
    },
    {
      "cell_type": "code",
      "execution_count": 56,
      "metadata": {
        "id": "vjc-Li2dszzS"
      },
      "outputs": [],
      "source": [
        "for i,j in zip(df['class_x'],df['class_y']):\n",
        "  if i != j:\n",
        "    print('not equal values')"
      ]
    },
    {
      "cell_type": "code",
      "execution_count": 57,
      "metadata": {
        "id": "lnXzuSywuNMv"
      },
      "outputs": [],
      "source": [
        "df = df.drop(columns=['class_y'], axis=1)\n",
        "df['class'] = df['class_x']\n",
        "df = df.drop(columns=['class_x'], axis=1)\n",
        "df = df.drop(columns=['Unnamed: 0'], axis =1)\n",
        "df = df[sorted(df.columns)]"
      ]
    },
    {
      "cell_type": "code",
      "execution_count": 58,
      "metadata": {
        "id": "gFPWat9Axqs0"
      },
      "outputs": [],
      "source": [
        "random_state = 42\n",
        "model_labels = ['lp', 'knn', 'dt', 'rf', 'adb']\n",
        "\n",
        "models = {\n",
        "    'lp': {\n",
        "            'name': 'Linear Perceptron',\n",
        "            'estimator': Perceptron(random_state=random_state),\n",
        "            'param': {'early_stopping': [True,False], 'class_weight': ['balanced', None]},\n",
        "          },\n",
        "    'knn': {\n",
        "            'name': 'K Nearest Neighbour',\n",
        "            'estimator': KNeighborsClassifier(),\n",
        "            'param': {'n_neighbors': [*range(5,11)], 'weights': ['uniform', 'distance']},\n",
        "          },\n",
        "    'dt': {\n",
        "            'name': 'Decision Tree',\n",
        "            'estimator': DecisionTreeClassifier(random_state=random_state),\n",
        "            'param': {'criterion': ['gini', 'entropy'], 'max_depth': [*range(5,11)], 'class_weight': ['balanced', None]},\n",
        "          },\n",
        "    'rf': {\n",
        "            'name': 'Random Forest',\n",
        "            'estimator': RandomForestClassifier(random_state=random_state),\n",
        "            'param': {'n_estimators': [*range(10,100,20)], 'criterion': ['gini', 'entropy']},\n",
        "          },\n",
        "    'adb': {\n",
        "            'name': 'AdabBoost',\n",
        "            'estimator': AdaBoostClassifier(random_state=random_state),\n",
        "            'param': {'n_estimators': [*range(50,100,10)], 'learning_rate': [0.0, 0.5, 1.0]},\n",
        "          },\n",
        "}\n",
        "\n",
        "scoring = ['accuracy', 'f1_macro', 'recall_macro', 'precision_macro']\n",
        "\n",
        "clfs = []\n",
        "results = pd.DataFrame(columns=['scoring', 'model', 'best params',\n",
        "                        'accuracy', 'f1_macro', 'recall_macro', 'precision_macro'])\n",
        "skf = StratifiedKFold(n_splits=3, random_state=random_state, shuffle=True)"
      ]
    },
    {
      "cell_type": "code",
      "execution_count": 59,
      "metadata": {
        "id": "xL58ez5BRQPB"
      },
      "outputs": [],
      "source": [
        "X = df.drop(columns=['class'], axis=1)\n",
        "y = df['class']\n",
        "X_train, X_test, y_train, y_test = train_test_split(X, y, test_size=0.3, random_state=random_state)"
      ]
    },
    {
      "cell_type": "code",
      "execution_count": 60,
      "metadata": {
        "id": "wTDRO5IV4vGH"
      },
      "outputs": [],
      "source": [
        "for score in scoring:\n",
        "  for lbl in model_labels:\n",
        "    clf = GridSearchCV(models[lbl]['estimator'], models[lbl]['param'], scoring=score, cv=skf, return_train_score=False)\n",
        "    clf.fit(X_train,y_train)\n",
        "    y_pre = clf.predict(X_test)\n",
        "    clfs.append(clf)\n",
        "    cr = classification_report(y_true=y_test, y_pred=y_pre, labels=clf.classes_, output_dict=True)\n",
        "    results.loc[len(results)] = [score, models[lbl]['name'], clf.best_params_,\n",
        "                                 cr['accuracy'],\n",
        "                                 cr['macro avg']['f1-score'],\n",
        "                                 cr['macro avg']['recall'],\n",
        "                                 cr['macro avg']['precision']]\n"
      ]
    },
    {
      "cell_type": "code",
      "execution_count": null,
      "metadata": {
        "id": "_9to5vkMT6Q3"
      },
      "outputs": [],
      "source": [
        "for score in scoring:\n",
        "  print(\"Best parameters for scoring   ***\"+score+\"***\")\n",
        "  display(results[results['scoring']==score].sort_values(by=[score], ascending=False))\n",
        "  print('\\n\\n\\n')"
      ]
    },
    {
      "cell_type": "code",
      "execution_count": null,
      "metadata": {
        "id": "5EjCjGWJYH-w"
      },
      "outputs": [],
      "source": [
        "for score in scoring:\n",
        "  best_id = results.loc[results['scoring'] == score, score].idxmax()\n",
        "  disp = ConfusionMatrixDisplay.from_estimator(clfs[best_id],X_test,y_test)\n",
        "  disp.ax_.set_title(\"Best Model for {}: {}\".format(score,results.at[best_id,'model']))"
      ]
    },
    {
      "cell_type": "code",
      "execution_count": 70,
      "metadata": {
        "colab": {
          "base_uri": "https://localhost:8080/",
          "height": 564
        },
        "id": "ToOnclyPjQbU",
        "outputId": "1711df75-ea89-4a37-b497-079f8289fbff"
      },
      "outputs": [
        {
          "data": {
            "image/png": "[encoded data removed]",
            "text/plain": [
              "<Figure size 1200x600 with 1 Axes>"
            ]
          },
          "metadata": {},
          "output_type": "display_data"
        }
      ],
      "source": [
        "plt.figure(figsize=(12, 6))\n",
        "sns.barplot(data=results, x='model', y='accuracy')\n",
        "\n",
        "# Labels and title\n",
        "plt.xlabel(\"Model\")\n",
        "plt.ylabel(\"Accuracy\")\n",
        "plt.title(\"Model Accuracies Across Accuracy Scoring Methods\")\n",
        "\n",
        "# Show plot\n",
        "plt.show()\n"
      ]
    }
  ],
  "metadata": {
    "colab": {
      "provenance": []
    },
    "kernelspec": {
      "display_name": "Python 3",
      "name": "python3"
    },
    "language_info": {
      "name": "python"
    }
  },
  "nbformat": 4,
  "nbformat_minor": 0
}
